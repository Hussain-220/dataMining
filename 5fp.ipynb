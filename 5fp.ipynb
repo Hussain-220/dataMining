{
 "cells": [
  {
   "cell_type": "code",
   "execution_count": null,
   "metadata": {},
   "outputs": [],
   "source": [
    "import pandas as pd\n",
    "from mlxtend.frequent_patterns import fpgrowth, apriori, association_rules\n",
    "import time\n",
    "\n",
    "# Sample transaction dataset (Replace with actual dataset)\n",
    "dataset = [['Milk', 'Bread', 'Eggs'],\n",
    "           ['Milk', 'Diaper', 'Beer', 'Eggs'],\n",
    "           ['Milk', 'Diaper', 'Beer', 'Cola'],\n",
    "           ['Bread', 'Butter'],\n",
    "           ['Milk', 'Diaper', 'Cola'],\n",
    "           ['Bread', 'Butter', 'Eggs']]\n",
    "\n",
    "df = pd.DataFrame(dataset)"
   ]
  },
  {
   "cell_type": "code",
   "execution_count": null,
   "metadata": {},
   "outputs": [],
   "source": [
    "from mlxtend.preprocessing import TransactionEncoder\n",
    "\n",
    "te = TransactionEncoder()\n",
    "te_ary = te.fit(dataset).transform(dataset)\n",
    "df_encoded = pd.DataFrame(te_ary, columns=te.columns_)\n",
    "print(df_encoded.head())"
   ]
  },
  {
   "cell_type": "code",
   "execution_count": null,
   "metadata": {},
   "outputs": [],
   "source": [
    "for threshold in [0.2, 0.3, 0.5]:  # Experimenting with different values\n",
    "    print(f\"\\nFP-Growth with min_support={threshold}\")\n",
    "    start_time = time.time()\n",
    "    frequent_itemsets_fp = fpgrowth(df_encoded, min_support=threshold, use_colnames=True)\n",
    "    end_time = time.time()\n",
    "    print(frequent_itemsets_fp)\n",
    "    print(f\"Execution Time: {end_time - start_time:.4f} seconds\")"
   ]
  },
  {
   "cell_type": "code",
   "execution_count": null,
   "metadata": {},
   "outputs": [],
   "source": [
    "for threshold in [0.2, 0.3, 0.5]:  \n",
    "    print(f\"\\nApriori with min_support={threshold}\")\n",
    "    start_time = time.time()\n",
    "    frequent_itemsets_ap = apriori(df_encoded, min_support=threshold, use_colnames=True)\n",
    "    end_time = time.time()\n",
    "    print(frequent_itemsets_ap)\n",
    "    print(f\"Execution Time: {end_time - start_time:.4f} seconds\")"
   ]
  },
  {
   "cell_type": "code",
   "execution_count": null,
   "metadata": {},
   "outputs": [],
   "source": []
  },
  {
   "cell_type": "code",
   "execution_count": null,
   "metadata": {},
   "outputs": [],
   "source": [
    "# OrderID,Items\n",
    "# 1,Burger,Fries,Soda\n",
    "# 2,Burger,Fries\n",
    "# 3,Pizza,Wings,Soda\n",
    "# 4,Pizza,Burger\n",
    "# 5,Fries,Wings\n",
    "# 6,Burger,Pizza,Soda\n",
    "# 7,Burger,Fries,Wings\n",
    "# 8,Soda,Fries\n",
    "# 9,Burger,Fries,Pizza\n",
    "# 10,Wings,Soda"
   ]
  },
  {
   "cell_type": "code",
   "execution_count": null,
   "metadata": {},
   "outputs": [],
   "source": [
    "df = pd.read_csv('FastFood_Orders.csv')\n",
    "transactions = df['Items'].apply(lambda x: x.split(','))\n",
    "\n",
    "te = TransactionEncoder()\n",
    "te_ary = te.fit(transactions).transform(transactions)\n",
    "df_encoded = pd.DataFrame(te_ary, columns=te.columns_)"
   ]
  },
  {
   "cell_type": "code",
   "execution_count": null,
   "metadata": {},
   "outputs": [],
   "source": [
    "df = pd.read_csv('FastFood_Orders.csv')\n",
    "transactions = df['Items'].apply(lambda x: x.split(','))\n",
    "\n",
    "te = TransactionEncoder()\n",
    "te_ary = te.fit(transactions).transform(transactions)\n",
    "df_encoded = pd.DataFrame(te_ary, columns=te.columns_)"
   ]
  },
  {
   "cell_type": "code",
   "execution_count": null,
   "metadata": {},
   "outputs": [],
   "source": [
    "frequent_itemsets = fpgrowth(df_encoded, min_support=0.2, use_colnames=True)\n",
    "print(frequent_itemsets)"
   ]
  },
  {
   "cell_type": "code",
   "execution_count": null,
   "metadata": {},
   "outputs": [],
   "source": [
    "rules = association_rules(frequent_itemsets, metric='lift', min_threshold=1.0)\n",
    "print(rules[['antecedents', 'consequents', 'support', 'confidence', 'lift']])"
   ]
  },
  {
   "cell_type": "code",
   "execution_count": null,
   "metadata": {},
   "outputs": [],
   "source": [
    "import seaborn as sns\n",
    "import matplotlib.pyplot as plt\n",
    "\n",
    "plt.figure(figsize=(10, 5))\n",
    "sns.barplot(x=rules['confidence'], y=rules['antecedents'].astype(str))\n",
    "plt.xlabel(\"Confidence\")\n",
    "plt.ylabel(\"Itemset\")\n",
    "plt.title(\"Top Fast-Food Combinations\")\n",
    "plt.show()"
   ]
  },
  {
   "cell_type": "code",
   "execution_count": null,
   "metadata": {},
   "outputs": [],
   "source": [
    "# OrderID,Items\n",
    "# 1,T-Shirt,Jeans,Sneakers\n",
    "# 2,T-Shirt,Jeans\n",
    "# 3,Dress,Heels,Bag\n",
    "# 4,Dress,T-Shirt\n",
    "# 5,Sneakers,Jeans\n",
    "# 6,T-Shirt,Dress,Bag\n",
    "# 7,T-Shirt,Jeans,Sneakers\n",
    "# 8,Heels,Bag\n",
    "# 9,T-Shirt,Jeans,Dress\n",
    "# 10,Bag,Sneakers\n"
   ]
  },
  {
   "cell_type": "code",
   "execution_count": null,
   "metadata": {},
   "outputs": [],
   "source": [
    "df = pd.read_csv('OnlineClothing_Orders.csv')\n",
    "transactions = df['Items'].apply(lambda x: x.split(','))\n",
    "\n",
    "te = TransactionEncoder()\n",
    "te_ary = te.fit(transactions).transform(transactions)\n",
    "df_encoded = pd.DataFrame(te_ary, columns=te.columns_)"
   ]
  },
  {
   "cell_type": "code",
   "execution_count": null,
   "metadata": {},
   "outputs": [],
   "source": [
    "frequent_itemsets = fpgrowth(df_encoded, min_support=0.2, use_colnames=True)\n",
    "print(frequent_itemsets)"
   ]
  },
  {
   "cell_type": "code",
   "execution_count": null,
   "metadata": {},
   "outputs": [],
   "source": [
    "rules = association_rules(frequent_itemsets, metric='lift', min_threshold=1.0)\n",
    "print(rules[['antecedents', 'consequents', 'support', 'confidence', 'lift']])"
   ]
  },
  {
   "cell_type": "code",
   "execution_count": null,
   "metadata": {},
   "outputs": [],
   "source": [
    "plt.figure(figsize=(10, 5))\n",
    "sns.barplot(x=rules['support'], y=rules['antecedents'].astype(str))\n",
    "plt.xlabel(\"Support\")\n",
    "plt.ylabel(\"Product Pairs\")\n",
    "plt.title(\"Top Product Associations in Online Clothing Store\")\n",
    "plt.show()"
   ]
  }
 ],
 "metadata": {
  "language_info": {
   "name": "python"
  }
 },
 "nbformat": 4,
 "nbformat_minor": 2
}
